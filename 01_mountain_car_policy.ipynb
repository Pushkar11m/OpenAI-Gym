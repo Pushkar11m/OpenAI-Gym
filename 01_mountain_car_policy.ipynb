{
 "cells": [
  {
   "cell_type": "heading",
   "metadata": {
    "collapsed": true
   },
   "level": 2,
   "source": [
    "Mountain Car"
   ]
  },
  {
   "cell_type": "heading",
   "metadata": {},
   "level": 2,
   "source": [
    "Imports"
   ]
  },
  {
   "cell_type": "code",
   "execution_count": 1,
   "metadata": {},
   "outputs": [],
   "source": [
    "import gym\n",
    "import numpy as np"
   ]
  },
  {
   "cell_type": "heading",
   "metadata": {},
   "level": 1,
   "source": [
    "Environment"
   ]
  },
  {
   "cell_type": "code",
   "execution_count": 2,
   "metadata": {},
   "outputs": [
    {
     "name": "stdout",
     "output_type": "stream",
     "text": [
      "\u001b[33mWARN: gym.spaces.Box autodetected dtype as <class 'numpy.float32'>. Please provide explicit dtype.\u001b[0m\n"
     ]
    }
   ],
   "source": [
    "env = gym.make(\"MountainCar-v0\")"
   ]
  },
  {
   "cell_type": "heading",
   "metadata": {},
   "level": 1,
   "source": [
    "Policy"
   ]
  },
  {
   "cell_type": "code",
   "execution_count": 3,
   "metadata": {},
   "outputs": [],
   "source": [
    "def policy(observation):\n",
    "    if(observation[0]<0 and observation[1]<0):\n",
    "        return 0\n",
    "    if (observation[0] < 0 and observation[1] > 0):\n",
    "        return 2\n",
    "    if (observation[0] > 0 and observation[1] < 0):\n",
    "        return 0\n",
    "    if (observation[0] > 0 and observation[1] > 0):\n",
    "        return 2\n",
    "    return env.action_space.sample()"
   ]
  },
  {
   "cell_type": "heading",
   "metadata": {},
   "level": 1,
   "source": [
    "Use the policy to run the mountain car and calculate rewards"
   ]
  },
  {
   "cell_type": "code",
   "execution_count": 8,
   "metadata": {},
   "outputs": [
    {
     "name": "stdout",
     "output_type": "stream",
     "text": [
      "Rewards obtained : [-101.0, -153.0, -122.0, -90.0, -114.0]\nMaximum reward -90.0 Minimum reward -153.0 Average reward  -116.0\n"
     ]
    }
   ],
   "source": [
    "reward_list=[]\n",
    "for i_episode in range(5):\n",
    "    observation = env.reset()\n",
    "\n",
    "    total_reward=0\n",
    "    for t in range(200):\n",
    "        env.render()\n",
    "        #print(observation)\n",
    "        action = policy(observation)\n",
    "        observation, reward, done, _ = env.step(action)\n",
    "        total_reward += reward\n",
    "        env.render()\n",
    "        #time.sleep(0.1)\n",
    "        if done:\n",
    "            break\n",
    "    \n",
    "    reward_list.append(total_reward)\n",
    "print(\"Rewards obtained :\",reward_list)\n",
    "print(\"Maximum reward\",np.max(reward_list),\"Minimum reward\",np.min(reward_list),\"Average reward \",np.mean(reward_list))\n"
   ]
  },
  {
   "cell_type": "code",
   "execution_count": null,
   "metadata": {},
   "outputs": [],
   "source": []
  }
 ],
 "metadata": {
  "kernelspec": {
   "display_name": "Python 2",
   "language": "python",
   "name": "python2"
  },
  "language_info": {
   "codemirror_mode": {
    "name": "ipython",
    "version": 2
   },
   "file_extension": ".py",
   "mimetype": "text/x-python",
   "name": "python",
   "nbconvert_exporter": "python",
   "pygments_lexer": "ipython2",
   "version": "2.7.6"
  }
 },
 "nbformat": 4,
 "nbformat_minor": 0
}
